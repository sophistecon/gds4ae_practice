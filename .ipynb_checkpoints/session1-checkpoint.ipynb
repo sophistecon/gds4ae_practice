{
 "cells": [
  {
   "cell_type": "markdown",
   "id": "external-jonathan",
   "metadata": {},
   "source": [
    "## Python Programming Essentials\n",
    "\n",
    "We are now ready to start learning the Python language itself. "
   ]
  },
  {
   "cell_type": "markdown",
   "id": "seeing-university",
   "metadata": {},
   "source": [
    "### Scientific Libraries\n",
    "\n",
    "The core language of Python is rather small. You almost always need to import additional functionality in the form of scientific libraries, i.e. collections of efficient code (e.g. functions, commands, etc.) provided to implement certain (standard) routines. They are usually imported in the first lines of a program and you can access their functionalities afterwards via the syntax `packagename.attribute`."
   ]
  },
  {
   "cell_type": "code",
   "execution_count": 3,
   "id": "sound-hazard",
   "metadata": {},
   "outputs": [
    {
     "data": {
      "text/plain": [
       "2.0"
      ]
     },
     "execution_count": 3,
     "metadata": {},
     "output_type": "execute_result"
    }
   ],
   "source": [
    "import numpy as np  # imports package under 'np'\n",
    "np.sqrt(4)"
   ]
  }
 ],
 "metadata": {
  "kernelspec": {
   "display_name": "Python 3",
   "language": "python",
   "name": "python3"
  },
  "language_info": {
   "codemirror_mode": {
    "name": "ipython",
    "version": 3
   },
   "file_extension": ".py",
   "mimetype": "text/x-python",
   "name": "python",
   "nbconvert_exporter": "python",
   "pygments_lexer": "ipython3",
   "version": "3.8.8"
  }
 },
 "nbformat": 4,
 "nbformat_minor": 5
}
